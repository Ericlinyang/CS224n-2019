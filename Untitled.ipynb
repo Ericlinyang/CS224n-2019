{
 "cells": [
  {
   "cell_type": "code",
   "execution_count": 36,
   "metadata": {
    "collapsed": true
   },
   "outputs": [],
   "source": [
    "import torch\n",
    "import torch.nn as nn\n",
    "import torch.nn.functional as F\n",
    "import torch.optim as optim\n",
    "from torch.autograd import Variable\n",
    "import numpy as np\n",
    "import matplotlib.pyplot as plt"
   ]
  },
  {
   "cell_type": "code",
   "execution_count": 37,
   "metadata": {},
   "outputs": [
    {
     "data": {
      "text/plain": [
       "torch.Size([6, 3])"
      ]
     },
     "execution_count": 37,
     "metadata": {},
     "output_type": "execute_result"
    }
   ],
   "source": [
    "# 3 words sentences (=sequence_length is 3)\n",
    "sentences = [\"i love you\", \"he loves me\", \"she likes baseball\", \"i hate you\", \"sorry for that\", \"this is awful\"]\n",
    "labels = [1, 1, 1, 0, 0, 0]  # 1 is good, 0 is not good.\n",
    "\n",
    "#parameters\n",
    "embedding_size = 2\n",
    "n_class = 2\n",
    "n_hidden = 5\n",
    "\n",
    "words = ' '.join(sentences)\n",
    "words = list(set(words.split()))\n",
    "vocab_size = len(words)\n",
    "word_id = {w:i for i,w in enumerate(words)}\n",
    "\n",
    "input_batch = []\n",
    "target_batch = []\n",
    "\n",
    "for sen in sentences:\n",
    "    input_batch.append(np.asarray([word_id[w] for w in sen.split()]))\n",
    "    \n",
    "for out in labels:\n",
    "    target_batch.append(out)\n",
    "\n",
    "input_batch = Variable(torch.LongTensor(input_batch))\n",
    "target_batch = Variable(torch.LongTensor(target_batch))\n",
    "\n",
    "input_batch.size()\n",
    "# X = nn.Embedding(vocab_size,embedding_size)(input_batch)\n",
    "# hidden = Variable(torch.zeros(2,len(X[1]),n_hidden))#hidden_state\n",
    "\n",
    "# cell = Variable(torch.zeros(2,len(X[1]),n_hidden))\n",
    "# outputs,(final_hidden,final_cell) =nn.LSTM(embedding_size,n_hidden,bidirectional=True)(X,(hidden,cell))#\n",
    "# final_hidden.size()#torch.Size([6, 3, 10])"
   ]
  },
  {
   "cell_type": "code",
   "execution_count": 38,
   "metadata": {
    "collapsed": true
   },
   "outputs": [],
   "source": [
    "class BiLSTM(nn.Module):\n",
    "    def __init__(self):\n",
    "        super(BiLSTM,self).__init__()\n",
    "        self.embedding = nn.Embedding(vocab_size,embedding_size)\n",
    "        self.lstm = nn.LSTM(embedding_size,n_hidden,bidirectional=True)\n",
    "        self.out = nn.Linear(n_hidden*2,n_class)\n",
    "        #outputs [batch_size,seq_len,hidden_size*2] [3,6,10]\n",
    "    def self_attn(self,final_outputs,final_hidden):# #final_hidden[2,batch_size,hidden_size] 2,3,5\n",
    "        final_hidden = final_hidden.view(-1,2*n_hidden,1)#[batch_size,2*hidden_size,1]\n",
    "        attn = torch.bmm(final_outputs,final_hidden).squeeze(2)#[batch_size,seq_len] 6,3\n",
    "        soft_attn_weights = F.softmax(attn,1)#[batch_size,seq_len]\n",
    "        #6 10 3 6,3,1\n",
    "        context = torch.bmm(final_outputs.transpose(1,2),soft_attn_weights.unsqueeze(2)).squeeze(2) # 6,10\n",
    "        return context,soft_attn_weights.data.numpy()\n",
    "    def forward(self,X):\n",
    "        input = self.embedding(X)#torch.Size([6, 3, 2])[batch_size,n_step,embedding_size]\n",
    "        input = input.permute(1,0,2)#[n_step,batch_size,embedding_size]\n",
    "        hidden = Variable(torch.zeros(2,len(X),n_hidden))#hidden_state\n",
    "        cell = Variable(torch.zeros(2,len(X),n_hidden))#cell_state\n",
    "        #outputs [seq_len,batch_size,hidden_size*2]\n",
    "        #final_hidden[2,batch_size,hidden_size]\n",
    "        #final_cell[2,batch_size,hidden_size]\n",
    "        outputs,(final_hidden,final_cell) = self.lstm(input,(hidden,cell))#\n",
    "        outputs = outputs.permute(1,0,2)\n",
    "        attn_output,attention = self.self_attn(outputs,final_hidden)\n",
    "        return self.out(attn_output),attention\n",
    "        "
   ]
  },
  {
   "cell_type": "code",
   "execution_count": 39,
   "metadata": {},
   "outputs": [
    {
     "name": "stdout",
     "output_type": "stream",
     "text": [
      "epoch:1000,loss:0.004434\n",
      "epoch:2000,loss:0.000778\n",
      "epoch:3000,loss:0.000288\n",
      "epoch:4000,loss:0.000134\n",
      "epoch:5000,loss:0.000069\n"
     ]
    }
   ],
   "source": [
    "model = BiLSTM()\n",
    "criterion = nn.CrossEntropyLoss()\n",
    "optimizer = optim.Adam(model.parameters(),lr=0.001)\n",
    "\n",
    "for i in range(5000):\n",
    "    optimizer.zero_grad()\n",
    "    output,attn = model(input_batch)\n",
    "    loss = criterion(output,target_batch)\n",
    "    if (i+1) %1000 ==0:\n",
    "        print('epoch:%d,loss:%f' % (i+1,loss))\n",
    "    loss.backward()\n",
    "    optimizer.step()\n"
   ]
  },
  {
   "cell_type": "code",
   "execution_count": 42,
   "metadata": {},
   "outputs": [
    {
     "name": "stdout",
     "output_type": "stream",
     "text": [
      "sorry hate you is Bad Mean...\n"
     ]
    },
    {
     "data": {
      "image/png": "[encoded data removed]",
      "text/plain": [
       "<Figure size 432x216 with 1 Axes>"
      ]
     },
     "metadata": {},
     "output_type": "display_data"
    }
   ],
   "source": [
    "# Test\n",
    "test_text = 'sorry hate you'\n",
    "tests = [np.asarray([word_id[n] for n in test_text.split()])]\n",
    "test_batch = Variable(torch.LongTensor(tests))\n",
    "\n",
    "# Predict\n",
    "predict, _ = model(test_batch)\n",
    "predict = predict.data.max(1, keepdim=True)[1]\n",
    "if predict[0][0] == 0:\n",
    "    print(test_text,\"is Bad Mean...\")\n",
    "else:\n",
    "    print(test_text,\"is Good Mean!!\")\n",
    "    \n",
    "fig = plt.figure(figsize=(6, 3)) # [batch_size, n_step]\n",
    "ax = fig.add_subplot(1, 1, 1)\n",
    "ax.matshow(attn, cmap='viridis')\n",
    "ax.set_xticklabels(['']+['first_word', 'second_word', 'third_word'], fontdict={'fontsize': 14}, rotation=90)\n",
    "ax.set_yticklabels(['']+['batch_1', 'batch_2', 'batch_3', 'batch_4', 'batch_5', 'batch_6'], fontdict={'fontsize': 14})\n",
    "plt.show()"
   ]
  },
  {
   "cell_type": "code",
   "execution_count": null,
   "metadata": {
    "collapsed": true
   },
   "outputs": [],
   "source": []
  }
 ],
 "metadata": {
  "kernelspec": {
   "display_name": "Python 3",
   "language": "python",
   "name": "python3"
  },
  "language_info": {
   "codemirror_mode": {
    "name": "ipython",
    "version": 3
   },
   "file_extension": ".py",
   "mimetype": "text/x-python",
   "name": "python",
   "nbconvert_exporter": "python",
   "pygments_lexer": "ipython3",
   "version": "3.6.3"
  }
 },
 "nbformat": 4,
 "nbformat_minor": 2
}
