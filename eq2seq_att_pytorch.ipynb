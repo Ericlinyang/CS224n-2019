{
 "cells": [
  {
   "cell_type": "code",
   "execution_count": 1,
   "metadata": {
    "collapsed": true
   },
   "outputs": [],
   "source": [
    "import torch\n",
    "import torch.nn as nn\n",
    "import torch.optim as optim\n",
    "from torch.autograd import Variable\n",
    "import numpy as np\n",
    "import torch.functional as F"
   ]
  },
  {
   "cell_type": "code",
   "execution_count": 40,
   "metadata": {
    "collapsed": true
   },
   "outputs": [],
   "source": [
    "sentences = ['ich mochte ein bier P', 'S i want a beer', 'i want a beer E']#data\n",
    "words = ' '.join(sentences)\n",
    "words = list(set(words.split()))\n",
    "word2id = {w:i for i,w in enumerate(words)}\n",
    "id2word = {i:w for i,w in enumerate(words)}\n",
    "\n",
    "n_class = len(words)\n",
    "n_step = 5\n",
    "n_hidden = 128"
   ]
  },
  {
   "cell_type": "code",
   "execution_count": 41,
   "metadata": {
    "collapsed": true
   },
   "outputs": [],
   "source": [
    "def get_batch(sentences):\n",
    "    input_batch = [np.eye(n_class)[[word2id[w] for w in sentences[0].split()]]]#[batch_size,n_step,hidden_size]\n",
    "    output_batch = [np.eye(n_class)[[word2id[w] for w in sentences[1].split()]]]#[batch_size,n_step,hidden_size]\n",
    "    target_batch = [[word2id[w] for w in sentences[2].split()]]\n",
    "    return Variable(torch.Tensor(input_batch)),Variable(torch.Tensor(output_batch)),Variable(torch.Tensor(target_batch).type(torch.LongTensor))"
   ]
  },
  {
   "cell_type": "code",
   "execution_count": 42,
   "metadata": {
    "collapsed": true
   },
   "outputs": [],
   "source": [
    "class Seq2seq_att(nn.Module):\n",
    "    def __init__(self):\n",
    "        super(Seq2seq_att,self).__init__()\n",
    "        self.enc_cell = nn.RNN(input_size=n_class,hidden_size=n_hidden,dropout=0.5)#[n_step,batch_size,emb_size]\n",
    "        self.dec_cell = nn.RNN(input_size=n_class,hidden_size=n_hidden,dropout=0.5)#[n_step,batch_size,emb_size]\n",
    "        self.attn = nn.Linear(n_hidden,n_hidden)\n",
    "        self.out = nn.Linear(n_hidden*2,n_class)\n",
    "        \n",
    "    def get_att_weight(self,enc_output,dec_output):#[n_step,batch_size,emb_size] [1,batch_size,emb_size]\n",
    "        n_step = len(enc_output)\n",
    "        att_scores = Variable(torch.zeros(n_step))\n",
    "        for i in range(n_step):\n",
    "            att_scores[i] = self.get_att_score(enc_output[i],dec_output)\n",
    "        return F.softmax(att_scores).view(1,1,-1)\n",
    "        \n",
    "    def get_att_score(self,enc_output,dec_output):\n",
    "        score = self.attn(enc_output)\n",
    "        return torch.dot(score.view(-1),dec_output.view(-1))\n",
    "    \n",
    "    def forward(self,enc_input,enc_hidden,dec_input):\n",
    "        enc_input = enc_input.transpose(0,1)#[n_step,batch_size,hidden_size]\n",
    "        #print(enc_input.size())\n",
    "        dec_input = dec_input.transpose(0,1)\n",
    "        #print(dec_input.size())\n",
    "        enc_output,hidden = self.enc_cell(enc_input,enc_hidden)\n",
    "        train_att = []\n",
    "        hidden = enc_hidden\n",
    "        n_step = len(dec_input)\n",
    "        model = Variable(torch.empty(n_step,1,n_class))\n",
    "        for i in range(n_step):\n",
    "            dec_output,hidden = self.dec_cell(dec_input[i].unsqueeze(0),hidden)#[1,batch_size,emb_size]\n",
    "            attn_weight = self.get_att_weight(enc_output,dec_output)\n",
    "            train_att.append(attn_weight.squeeze().data.numpy())\n",
    "            \n",
    "            context = torch.matmul(attn_weight,enc_output.transpose(0,1))\n",
    "            dec_output = dec_output.squeeze(0)\n",
    "            context = context.squeeze(1)\n",
    "            #print(torch.cat((dec_output, context), 1).size())\n",
    "            model[i] = self.out(torch.cat((dec_output, context), 1))\n",
    "        return model.transpose(0, 1).squeeze(0), train_att"
   ]
  },
  {
   "cell_type": "code",
   "execution_count": 46,
   "metadata": {},
   "outputs": [
    {
     "name": "stderr",
     "output_type": "stream",
     "text": [
      "/Users/caijie/anaconda3/lib/python3.6/site-packages/torch/nn/modules/rnn.py:38: UserWarning: dropout option adds dropout after all but last recurrent layer, so non-zero dropout expects num_layers greater than 1, but got dropout=0.5 and num_layers=1\n",
      "  \"num_layers={}\".format(dropout, num_layers))\n",
      "/Users/caijie/anaconda3/lib/python3.6/site-packages/ipykernel_launcher.py:14: UserWarning: Implicit dimension choice for softmax has been deprecated. Change the call to include dim=X as an argument.\n",
      "  \n"
     ]
    },
    {
     "name": "stdout",
     "output_type": "stream",
     "text": [
      "Epoch: 0400 cost = 0.000966\n",
      "Epoch: 0800 cost = 0.000305\n",
      "Epoch: 1200 cost = 0.000150\n",
      "Epoch: 1600 cost = 0.000089\n",
      "Epoch: 2000 cost = 0.000057\n",
      "ich mochte ein bier P -> ['i', 'want', 'a', 'beer', 'E']\n"
     ]
    },
    {
     "data": {
      "image/png": "[encoded data removed]",
      "text/plain": [
       "<Figure size 360x360 with 1 Axes>"
      ]
     },
     "metadata": {},
     "output_type": "display_data"
    }
   ],
   "source": [
    "input_batch, output_batch, target_batch = get_batch(sentences)\n",
    "#print(input_batch.size())#21,16\n",
    "# hidden : [num_layers(=1) * num_directions(=1), batch_size, n_hidden]\n",
    "hidden = Variable(torch.zeros(1, 1, n_hidden))\n",
    "\n",
    "model = Seq2seq_att()\n",
    "criterion = nn.CrossEntropyLoss()\n",
    "optimizer = torch.optim.Adam(model.parameters(), lr=0.001)\n",
    "\n",
    "# Train\n",
    "for epoch in range(2000):\n",
    "    optimizer.zero_grad()\n",
    "    output, _ = model(input_batch, hidden, output_batch)\n",
    "\n",
    "    loss = criterion(output, target_batch.squeeze(0))\n",
    "    if (epoch + 1) % 400 == 0:\n",
    "        print('Epoch:', '%04d' % (epoch + 1), 'cost =', '{:.6f}'.format(loss))\n",
    "\n",
    "    loss.backward()\n",
    "    optimizer.step()\n",
    "\n",
    "# Test\n",
    "predict, trained_attn = model(input_batch, hidden, output_batch)\n",
    "predict = predict.data.max(1, keepdim=True)[1]\n",
    "print(sentences[0], '->', [number_dict[n.item()] for n in predict.squeeze()])\n",
    "\n",
    "# Show Attention\n",
    "fig = plt.figure(figsize=(5, 5))\n",
    "ax = fig.add_subplot(1, 1, 1)\n",
    "ax.matshow(trained_attn, cmap='viridis')\n",
    "ax.set_xticklabels([''] + sentences[0].split(), fontdict={'fontsize': 14})\n",
    "ax.set_yticklabels([''] + sentences[2].split(), fontdict={'fontsize': 14})\n",
    "plt.show()"
   ]
  },
  {
   "cell_type": "code",
   "execution_count": null,
   "metadata": {
    "collapsed": true
   },
   "outputs": [],
   "source": []
  }
 ],
 "metadata": {
  "kernelspec": {
   "display_name": "Python 3",
   "language": "python",
   "name": "python3"
  },
  "language_info": {
   "codemirror_mode": {
    "name": "ipython",
    "version": 3
   },
   "file_extension": ".py",
   "mimetype": "text/x-python",
   "name": "python",
   "nbconvert_exporter": "python",
   "pygments_lexer": "ipython3",
   "version": "3.6.3"
  }
 },
 "nbformat": 4,
 "nbformat_minor": 2
}
