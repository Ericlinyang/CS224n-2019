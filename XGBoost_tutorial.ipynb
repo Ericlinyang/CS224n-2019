{
 "cells": [
  {
   "cell_type": "code",
   "execution_count": 1,
   "metadata": {},
   "outputs": [],
   "source": [
    "import xgboost as xgb\n",
    "from sklearn.metrics import accuracy_score\n",
    "from xgboost import XGBClassifier"
   ]
  },
  {
   "cell_type": "markdown",
   "metadata": {},
   "source": [
    "## 一般模式"
   ]
  },
  {
   "cell_type": "code",
   "execution_count": 9,
   "metadata": {},
   "outputs": [
    {
     "name": "stdout",
     "output_type": "stream",
     "text": [
      "[17:10:22] 6513x127 matrix with 143286 entries loaded from ./data/agaricus.txt.train\n",
      "[17:10:22] 1611x127 matrix with 35442 entries loaded from ./data/agaricus.txt.test\n",
      "0.9929372025180409\n",
      "0.9937926753569212\n"
     ]
    }
   ],
   "source": [
    "path = './data/'\n",
    "#准备数据 数据下载在xgboost的github上 /demo/data/\n",
    "dtrain = xgb.DMatrix(path+'agaricus.txt.train')\n",
    "dtest = xgb.DMatrix(path+'agaricus.txt.test')\n",
    "#准备参数\n",
    "param = {'max_depth':2,'eta':1,'silent':0,'objective':'binary:logistic'}\n",
    "#参数说明\n",
    "'''\n",
    "max_depth:树的最大深度 缺省值为6 取值范围[1,+无穷]\n",
    "eta:防止过拟合在更新的时候使用的收缩步长 缺省值为0.3 取值[0,1] 其实就是学习率\n",
    "silent:0表示运行时打印运行信息，1表示不打印运行信息 缺省值为0\n",
    "objective:定义学习任务和学习目标 binary:logistic表示二分类逻辑回归 输出为概率\n",
    "'''\n",
    "#设置Boosting的迭代轮数 也就是最后会用到多少颗树\n",
    "num_round = 3\n",
    "#训练\n",
    "bst = xgb.train(param,dtrain,num_round)\n",
    "\n",
    "def evaluate(data,model):\n",
    "    pre = model.predict(data)\n",
    "    pre_res = [round(res) for res in pre]\n",
    "    y = data.get_label()\n",
    "    acc = accuracy_score(y,pre_res)\n",
    "    return acc\n",
    "\n",
    "acc_train = evaluate(dtrain,bst)\n",
    "acc_test = evaluate(dtest,bst)\n",
    "print(acc_train)\n",
    "print(acc_test)\n",
    "\n",
    "# 0.9777368340242591\n",
    "# 0.978274363749224\n",
    "\n",
    "# #训练结束之后进行预测（在训练样本上）\n",
    "# pre_train = bst.predict(dtrain)\n",
    "# #得到预测结果\n",
    "# train_pre = [round(res_train) for res_train in pre_train]\n",
    "# #获取样本标签\n",
    "# y_train = dtrain.get_label()\n",
    "# acc_train = accuracy_score(y_train,train_pre)\n",
    "# print(acc_train)\n",
    "\n",
    "# #训练结束之后进行预测（在测试样本上)\n",
    "# pre_test = bst.predict(dtest)\n",
    "# test_pre = [round(res_test) for res_test in pre_test]\n",
    "# y_test = dtest.get_label()\n",
    "# acc_test = accuracy_score(y_test,test_pre)\n",
    "# print(acc_test)\n",
    "\n"
   ]
  },
  {
   "cell_type": "markdown",
   "metadata": {},
   "source": [
    "## 模型可视化"
   ]
  },
  {
   "cell_type": "code",
   "execution_count": 10,
   "metadata": {},
   "outputs": [
    {
     "data": {
      "image/png": "[encoded data removed]",
      "text/plain": [
       "<Figure size 432x288 with 1 Axes>"
      ]
     },
     "metadata": {
      "needs_background": "light"
     },
     "output_type": "display_data"
    },
    {
     "data": {
      "text/plain": [
       "'\\n第一个参数为训练好的模型 第二个参数是要打印的树的索引，从0开始 第三个参数是打印的格式\\n'"
      ]
     },
     "execution_count": 10,
     "metadata": {},
     "output_type": "execute_result"
    }
   ],
   "source": [
    "#模型可视化\n",
    "from xgboost import plot_tree\n",
    "import matplotlib.pyplot as plt\n",
    "xgb.plot_tree(bst,num_trees=0,rankdir='TD')\n",
    "plt.show()\n",
    "'''\n",
    "第一个参数为训练好的模型 第二个参数是要打印的树的索引，从0开始 第三个参数是打印的格式\n",
    "'''"
   ]
  },
  {
   "cell_type": "markdown",
   "metadata": {},
   "source": [
    "## xgboost和sklearn结合 fit predict方式"
   ]
  },
  {
   "cell_type": "code",
   "execution_count": 11,
   "metadata": {},
   "outputs": [
    {
     "name": "stdout",
     "output_type": "stream",
     "text": [
      "0.9777368340242591\n"
     ]
    }
   ],
   "source": [
    "from sklearn.datasets import load_svmlight_file\n",
    "num_round = 2\n",
    "path = './data/'\n",
    "X_train,y_train = load_svmlight_file(path+'agaricus.txt.train')#xgboost支持libsvm格式的文件\n",
    "X_test,y_test = load_svmlight_file(path+'agaricus.txt.test')\n",
    "\n",
    "def evaluate_sklearn(data,model,label):\n",
    "    pre = model.predict(data)\n",
    "    pre_res = [round(res) for res in pre]\n",
    "    acc = accuracy_score(label,pre_res)\n",
    "    return acc\n",
    "\n",
    "bst = XGBClassifier(max_depth=2,learning_rate=1,n_estimators=num_round,silent=True,objective='binary:logistic')\n",
    "'''\n",
    "XGBClassifier(base_score=0.5, booster='gbtree', colsample_bylevel=1,\n",
    "       colsample_bytree=1, gamma=0, learning_rate=0.1, max_delta_step=0,\n",
    "       max_depth=3, min_child_weight=1, missing=None, n_estimators=100,\n",
    "       n_jobs=1, nthread=None, objective='binary:logistic', random_state=0,\n",
    "       reg_alpha=0, reg_lambda=1, scale_pos_weight=1, seed=None,\n",
    "       silent=True, subsample=1)\n",
    "'''\n",
    "bst.fit(X_train,y_train)\n",
    "acc_train2 = evaluate_sklearn(X_train,bst,y_train)\n",
    "print(acc_train2)\n",
    "#print(acc_test2)\n",
    "#0.9777368340242591\n",
    "#0.9929372025180409"
   ]
  },
  {
   "cell_type": "markdown",
   "metadata": {},
   "source": [
    "## train_test_split 将训练集划分为train_set和dev_set"
   ]
  },
  {
   "cell_type": "code",
   "execution_count": 12,
   "metadata": {},
   "outputs": [
    {
     "name": "stdout",
     "output_type": "stream",
     "text": [
      "0.9925581395348837\n"
     ]
    }
   ],
   "source": [
    "from sklearn.model_selection import train_test_split\n",
    "from sklearn.datasets import load_svmlight_file\n",
    "path = './data/'\n",
    "num_round = 3\n",
    "X_train,y_train = load_svmlight_file(path+'agaricus.txt.train')\n",
    "X_test,y_test = load_svmlight_file(path+'agaricus.txt.test')\n",
    "\n",
    "X_train_apart,X_dev_apart,y_train_apart,y_dev_apart = train_test_split(X_train,y_train,test_size = 0.33,random_state = 2333)\n",
    "\n",
    "def evaluate_sklearn(data,model,label):\n",
    "    pre = model.predict(data)\n",
    "    pre_res = [round(res) for res in pre]\n",
    "    acc = accuracy_score(label,pre_res)\n",
    "    return acc\n",
    "\n",
    "bst = XGBClassifier(max_depth=2,learning_rate=1,n_estimators=num_round,silent=True,objective='binary:logistic')\n",
    "bst.fit(X_train_apart,y_train_apart)\n",
    "\n",
    "print(evaluate_sklearn(X_dev_apart,bst,y_dev_apart))\n",
    "\n",
    "#0.9925581395348837  num_round=3 "
   ]
  },
  {
   "cell_type": "markdown",
   "metadata": {},
   "source": [
    "## 学习曲线"
   ]
  },
  {
   "cell_type": "code",
   "execution_count": 13,
   "metadata": {},
   "outputs": [
    {
     "name": "stdout",
     "output_type": "stream",
     "text": [
      "[0]\tvalidation_0-error:0.046528\tvalidation_0-logloss:0.233576\tvalidation_1-error:0.046512\tvalidation_1-logloss:0.234042\n",
      "Multiple eval metrics have been passed: 'validation_1-logloss' will be used for early stopping.\n",
      "\n",
      "Will train until validation_1-logloss hasn't improved in 10 rounds.\n",
      "[1]\tvalidation_0-error:0.022003\tvalidation_0-logloss:0.137507\tvalidation_1-error:0.022791\tvalidation_1-logloss:0.13582\n",
      "[2]\tvalidation_0-error:0.006876\tvalidation_0-logloss:0.082731\tvalidation_1-error:0.007442\tvalidation_1-logloss:0.083814\n",
      "[3]\tvalidation_0-error:0.015127\tvalidation_0-logloss:0.056502\tvalidation_1-error:0.015349\tvalidation_1-logloss:0.057887\n",
      "[4]\tvalidation_0-error:0.006876\tvalidation_0-logloss:0.041372\tvalidation_1-error:0.007442\tvalidation_1-logloss:0.04389\n",
      "[5]\tvalidation_0-error:0.001146\tvalidation_0-logloss:0.027251\tvalidation_1-error:0.001395\tvalidation_1-logloss:0.029045\n",
      "[6]\tvalidation_0-error:0.001146\tvalidation_0-logloss:0.01632\tvalidation_1-error:0.001395\tvalidation_1-logloss:0.01748\n",
      "[7]\tvalidation_0-error:0.001146\tvalidation_0-logloss:0.012005\tvalidation_1-error:0.001395\tvalidation_1-logloss:0.013095\n",
      "[8]\tvalidation_0-error:0.001146\tvalidation_0-logloss:0.009363\tvalidation_1-error:0.001395\tvalidation_1-logloss:0.009657\n",
      "[9]\tvalidation_0-error:0.001146\tvalidation_0-logloss:0.007026\tvalidation_1-error:0.001395\tvalidation_1-logloss:0.007514\n",
      "[10]\tvalidation_0-error:0.001146\tvalidation_0-logloss:0.005933\tvalidation_1-error:0.001395\tvalidation_1-logloss:0.006733\n",
      "[11]\tvalidation_0-error:0.001146\tvalidation_0-logloss:0.004517\tvalidation_1-error:0.001395\tvalidation_1-logloss:0.00495\n",
      "[12]\tvalidation_0-error:0\tvalidation_0-logloss:0.003551\tvalidation_1-error:0\tvalidation_1-logloss:0.003908\n",
      "[13]\tvalidation_0-error:0\tvalidation_0-logloss:0.003133\tvalidation_1-error:0\tvalidation_1-logloss:0.003542\n",
      "[14]\tvalidation_0-error:0\tvalidation_0-logloss:0.002627\tvalidation_1-error:0\tvalidation_1-logloss:0.002896\n",
      "[15]\tvalidation_0-error:0\tvalidation_0-logloss:0.002192\tvalidation_1-error:0\tvalidation_1-logloss:0.002307\n",
      "[16]\tvalidation_0-error:0\tvalidation_0-logloss:0.001835\tvalidation_1-error:0\tvalidation_1-logloss:0.001969\n",
      "[17]\tvalidation_0-error:0\tvalidation_0-logloss:0.001552\tvalidation_1-error:0\tvalidation_1-logloss:0.001648\n",
      "[18]\tvalidation_0-error:0\tvalidation_0-logloss:0.001313\tvalidation_1-error:0\tvalidation_1-logloss:0.00141\n",
      "[19]\tvalidation_0-error:0\tvalidation_0-logloss:0.001208\tvalidation_1-error:0\tvalidation_1-logloss:0.001295\n",
      "[20]\tvalidation_0-error:0\tvalidation_0-logloss:0.001102\tvalidation_1-error:0\tvalidation_1-logloss:0.001181\n",
      "[21]\tvalidation_0-error:0\tvalidation_0-logloss:0.000978\tvalidation_1-error:0\tvalidation_1-logloss:0.001066\n",
      "[22]\tvalidation_0-error:0\tvalidation_0-logloss:0.000938\tvalidation_1-error:0\tvalidation_1-logloss:0.001029\n",
      "[23]\tvalidation_0-error:0\tvalidation_0-logloss:0.000897\tvalidation_1-error:0\tvalidation_1-logloss:0.000989\n",
      "[24]\tvalidation_0-error:0\tvalidation_0-logloss:0.000859\tvalidation_1-error:0\tvalidation_1-logloss:0.000939\n",
      "[25]\tvalidation_0-error:0\tvalidation_0-logloss:0.000849\tvalidation_1-error:0\tvalidation_1-logloss:0.000933\n",
      "[26]\tvalidation_0-error:0\tvalidation_0-logloss:0.000835\tvalidation_1-error:0\tvalidation_1-logloss:0.000924\n",
      "[27]\tvalidation_0-error:0\tvalidation_0-logloss:0.00081\tvalidation_1-error:0\tvalidation_1-logloss:0.000892\n",
      "[28]\tvalidation_0-error:0\tvalidation_0-logloss:0.000801\tvalidation_1-error:0\tvalidation_1-logloss:0.000881\n",
      "[29]\tvalidation_0-error:0\tvalidation_0-logloss:0.000794\tvalidation_1-error:0\tvalidation_1-logloss:0.000876\n",
      "[30]\tvalidation_0-error:0\tvalidation_0-logloss:0.000779\tvalidation_1-error:0\tvalidation_1-logloss:0.000857\n",
      "[31]\tvalidation_0-error:0\tvalidation_0-logloss:0.000768\tvalidation_1-error:0\tvalidation_1-logloss:0.000851\n",
      "[32]\tvalidation_0-error:0\tvalidation_0-logloss:0.00076\tvalidation_1-error:0\tvalidation_1-logloss:0.00084\n",
      "[33]\tvalidation_0-error:0\tvalidation_0-logloss:0.000755\tvalidation_1-error:0\tvalidation_1-logloss:0.000838\n",
      "[34]\tvalidation_0-error:0\tvalidation_0-logloss:0.000752\tvalidation_1-error:0\tvalidation_1-logloss:0.000831\n",
      "[35]\tvalidation_0-error:0\tvalidation_0-logloss:0.000747\tvalidation_1-error:0\tvalidation_1-logloss:0.000824\n",
      "[36]\tvalidation_0-error:0\tvalidation_0-logloss:0.000743\tvalidation_1-error:0\tvalidation_1-logloss:0.000821\n",
      "[37]\tvalidation_0-error:0\tvalidation_0-logloss:0.000739\tvalidation_1-error:0\tvalidation_1-logloss:0.000819\n",
      "[38]\tvalidation_0-error:0\tvalidation_0-logloss:0.000736\tvalidation_1-error:0\tvalidation_1-logloss:0.000819\n",
      "[39]\tvalidation_0-error:0\tvalidation_0-logloss:0.000731\tvalidation_1-error:0\tvalidation_1-logloss:0.000812\n",
      "[40]\tvalidation_0-error:0\tvalidation_0-logloss:0.000727\tvalidation_1-error:0\tvalidation_1-logloss:0.000805\n",
      "[41]\tvalidation_0-error:0\tvalidation_0-logloss:0.000725\tvalidation_1-error:0\tvalidation_1-logloss:0.000803\n",
      "[42]\tvalidation_0-error:0\tvalidation_0-logloss:0.000722\tvalidation_1-error:0\tvalidation_1-logloss:0.000805\n",
      "[43]\tvalidation_0-error:0\tvalidation_0-logloss:0.000719\tvalidation_1-error:0\tvalidation_1-logloss:0.000804\n",
      "[44]\tvalidation_0-error:0\tvalidation_0-logloss:0.000716\tvalidation_1-error:0\tvalidation_1-logloss:0.0008\n",
      "[45]\tvalidation_0-error:0\tvalidation_0-logloss:0.000712\tvalidation_1-error:0\tvalidation_1-logloss:0.000798\n",
      "[46]\tvalidation_0-error:0\tvalidation_0-logloss:0.000711\tvalidation_1-error:0\tvalidation_1-logloss:0.000795\n",
      "[47]\tvalidation_0-error:0\tvalidation_0-logloss:0.000708\tvalidation_1-error:0\tvalidation_1-logloss:0.000794\n",
      "[48]\tvalidation_0-error:0\tvalidation_0-logloss:0.000706\tvalidation_1-error:0\tvalidation_1-logloss:0.000786\n",
      "[49]\tvalidation_0-error:0\tvalidation_0-logloss:0.000704\tvalidation_1-error:0\tvalidation_1-logloss:0.000782\n",
      "[50]\tvalidation_0-error:0\tvalidation_0-logloss:0.000701\tvalidation_1-error:0\tvalidation_1-logloss:0.000781\n",
      "[51]\tvalidation_0-error:0\tvalidation_0-logloss:0.000699\tvalidation_1-error:0\tvalidation_1-logloss:0.000777\n",
      "[52]\tvalidation_0-error:0\tvalidation_0-logloss:0.000696\tvalidation_1-error:0\tvalidation_1-logloss:0.000776\n",
      "[53]\tvalidation_0-error:0\tvalidation_0-logloss:0.000694\tvalidation_1-error:0\tvalidation_1-logloss:0.000776\n",
      "[54]\tvalidation_0-error:0\tvalidation_0-logloss:0.000692\tvalidation_1-error:0\tvalidation_1-logloss:0.000772\n",
      "[55]\tvalidation_0-error:0\tvalidation_0-logloss:0.00069\tvalidation_1-error:0\tvalidation_1-logloss:0.000768\n",
      "[56]\tvalidation_0-error:0\tvalidation_0-logloss:0.000688\tvalidation_1-error:0\tvalidation_1-logloss:0.000767\n",
      "[57]\tvalidation_0-error:0\tvalidation_0-logloss:0.000686\tvalidation_1-error:0\tvalidation_1-logloss:0.000769\n",
      "[58]\tvalidation_0-error:0\tvalidation_0-logloss:0.000685\tvalidation_1-error:0\tvalidation_1-logloss:0.000769\n",
      "[59]\tvalidation_0-error:0\tvalidation_0-logloss:0.000683\tvalidation_1-error:0\tvalidation_1-logloss:0.000766\n",
      "[60]\tvalidation_0-error:0\tvalidation_0-logloss:0.000681\tvalidation_1-error:0\tvalidation_1-logloss:0.000765\n",
      "[61]\tvalidation_0-error:0\tvalidation_0-logloss:0.00068\tvalidation_1-error:0\tvalidation_1-logloss:0.000763\n",
      "[62]\tvalidation_0-error:0\tvalidation_0-logloss:0.000678\tvalidation_1-error:0\tvalidation_1-logloss:0.000763\n",
      "[63]\tvalidation_0-error:0\tvalidation_0-logloss:0.000677\tvalidation_1-error:0\tvalidation_1-logloss:0.000759\n",
      "[64]\tvalidation_0-error:0\tvalidation_0-logloss:0.000675\tvalidation_1-error:0\tvalidation_1-logloss:0.000758\n",
      "[65]\tvalidation_0-error:0\tvalidation_0-logloss:0.000674\tvalidation_1-error:0\tvalidation_1-logloss:0.000756\n",
      "[66]\tvalidation_0-error:0\tvalidation_0-logloss:0.000672\tvalidation_1-error:0\tvalidation_1-logloss:0.000752\n",
      "[67]\tvalidation_0-error:0\tvalidation_0-logloss:0.000671\tvalidation_1-error:0\tvalidation_1-logloss:0.00075\n",
      "[68]\tvalidation_0-error:0\tvalidation_0-logloss:0.000669\tvalidation_1-error:0\tvalidation_1-logloss:0.00075\n",
      "[69]\tvalidation_0-error:0\tvalidation_0-logloss:0.000668\tvalidation_1-error:0\tvalidation_1-logloss:0.000747\n",
      "[70]\tvalidation_0-error:0\tvalidation_0-logloss:0.000667\tvalidation_1-error:0\tvalidation_1-logloss:0.000745\n",
      "[71]\tvalidation_0-error:0\tvalidation_0-logloss:0.000666\tvalidation_1-error:0\tvalidation_1-logloss:0.000745\n",
      "[72]\tvalidation_0-error:0\tvalidation_0-logloss:0.000665\tvalidation_1-error:0\tvalidation_1-logloss:0.000742\n",
      "[73]\tvalidation_0-error:0\tvalidation_0-logloss:0.000664\tvalidation_1-error:0\tvalidation_1-logloss:0.00074\n"
     ]
    },
    {
     "name": "stdout",
     "output_type": "stream",
     "text": [
      "[74]\tvalidation_0-error:0\tvalidation_0-logloss:0.000663\tvalidation_1-error:0\tvalidation_1-logloss:0.000741\n",
      "[75]\tvalidation_0-error:0\tvalidation_0-logloss:0.000662\tvalidation_1-error:0\tvalidation_1-logloss:0.000739\n",
      "[76]\tvalidation_0-error:0\tvalidation_0-logloss:0.000661\tvalidation_1-error:0\tvalidation_1-logloss:0.000737\n",
      "[77]\tvalidation_0-error:0\tvalidation_0-logloss:0.00066\tvalidation_1-error:0\tvalidation_1-logloss:0.000736\n",
      "[78]\tvalidation_0-error:0\tvalidation_0-logloss:0.000659\tvalidation_1-error:0\tvalidation_1-logloss:0.000734\n",
      "[79]\tvalidation_0-error:0\tvalidation_0-logloss:0.000658\tvalidation_1-error:0\tvalidation_1-logloss:0.000734\n",
      "[80]\tvalidation_0-error:0\tvalidation_0-logloss:0.000657\tvalidation_1-error:0\tvalidation_1-logloss:0.000733\n",
      "[81]\tvalidation_0-error:0\tvalidation_0-logloss:0.000657\tvalidation_1-error:0\tvalidation_1-logloss:0.000731\n",
      "[82]\tvalidation_0-error:0\tvalidation_0-logloss:0.000656\tvalidation_1-error:0\tvalidation_1-logloss:0.000731\n",
      "[83]\tvalidation_0-error:0\tvalidation_0-logloss:0.000656\tvalidation_1-error:0\tvalidation_1-logloss:0.000731\n",
      "[84]\tvalidation_0-error:0\tvalidation_0-logloss:0.000655\tvalidation_1-error:0\tvalidation_1-logloss:0.00073\n",
      "[85]\tvalidation_0-error:0\tvalidation_0-logloss:0.000654\tvalidation_1-error:0\tvalidation_1-logloss:0.000728\n",
      "[86]\tvalidation_0-error:0\tvalidation_0-logloss:0.000653\tvalidation_1-error:0\tvalidation_1-logloss:0.000727\n",
      "[87]\tvalidation_0-error:0\tvalidation_0-logloss:0.000653\tvalidation_1-error:0\tvalidation_1-logloss:0.000726\n",
      "[88]\tvalidation_0-error:0\tvalidation_0-logloss:0.000652\tvalidation_1-error:0\tvalidation_1-logloss:0.000726\n",
      "[89]\tvalidation_0-error:0\tvalidation_0-logloss:0.000652\tvalidation_1-error:0\tvalidation_1-logloss:0.000726\n",
      "[90]\tvalidation_0-error:0\tvalidation_0-logloss:0.000651\tvalidation_1-error:0\tvalidation_1-logloss:0.000725\n",
      "[91]\tvalidation_0-error:0\tvalidation_0-logloss:0.000651\tvalidation_1-error:0\tvalidation_1-logloss:0.000723\n",
      "[92]\tvalidation_0-error:0\tvalidation_0-logloss:0.00065\tvalidation_1-error:0\tvalidation_1-logloss:0.000723\n",
      "[93]\tvalidation_0-error:0\tvalidation_0-logloss:0.00065\tvalidation_1-error:0\tvalidation_1-logloss:0.000723\n",
      "[94]\tvalidation_0-error:0\tvalidation_0-logloss:0.000649\tvalidation_1-error:0\tvalidation_1-logloss:0.000721\n",
      "[95]\tvalidation_0-error:0\tvalidation_0-logloss:0.000649\tvalidation_1-error:0\tvalidation_1-logloss:0.000721\n",
      "[96]\tvalidation_0-error:0\tvalidation_0-logloss:0.000649\tvalidation_1-error:0\tvalidation_1-logloss:0.000721\n",
      "[97]\tvalidation_0-error:0\tvalidation_0-logloss:0.000648\tvalidation_1-error:0\tvalidation_1-logloss:0.000719\n",
      "[98]\tvalidation_0-error:0\tvalidation_0-logloss:0.000648\tvalidation_1-error:0\tvalidation_1-logloss:0.00072\n",
      "[99]\tvalidation_0-error:0\tvalidation_0-logloss:0.000647\tvalidation_1-error:0\tvalidation_1-logloss:0.000719\n"
     ]
    },
    {
     "data": {
      "image/png": "[encoded data removed]",
      "text/plain": [
       "<Figure size 432x288 with 1 Axes>"
      ]
     },
     "metadata": {
      "needs_background": "light"
     },
     "output_type": "display_data"
    },
    {
     "data": {
      "image/png": "[encoded data removed]",
      "text/plain": [
       "<Figure size 432x288 with 1 Axes>"
      ]
     },
     "metadata": {
      "needs_background": "light"
     },
     "output_type": "display_data"
    }
   ],
   "source": [
    "from sklearn.model_selection import train_test_split\n",
    "from sklearn.datasets import load_svmlight_file\n",
    "path = './data/'\n",
    "num_round = 100\n",
    "X_train,y_train = load_svmlight_file(path+'agaricus.txt.train')\n",
    "X_test,y_test = load_svmlight_file(path+'agaricus.txt.test')\n",
    "\n",
    "X_train_apart,X_dev_apart,y_train_apart,y_dev_apart = train_test_split(X_train,y_train,test_size = 0.33,random_state = 2333)\n",
    "\n",
    "def evaluate_sklearn(data,model,label):\n",
    "    pre = model.predict(data)\n",
    "    pre_res = [round(res) for res in pre]\n",
    "    acc = accuracy_score(label,pre_res)\n",
    "    return acc\n",
    "\n",
    "bst = XGBClassifier(max_depth=2,learning_rate=1,n_estimators=num_round,silent=True,objective='binary:logistic')\n",
    "eval_set = [(X_train_apart,y_train_apart),(X_dev_apart,y_dev_apart)]\n",
    "\n",
    "#early_stop\n",
    "bst.fit(X_train_apart,y_train_apart, early_stopping_rounds = 10,eval_metric = ['error','logloss'],eval_set = eval_set)\n",
    "\n",
    "#bst.fit(X_train_apart,y_train_apart, eval_metric = ['error','logloss'],eval_set = eval_set)\n",
    "\n",
    "results = bst.evals_result()\n",
    "epoch = len(results['validation_0']['error'])\n",
    "x_axis = range(0,epoch)#横轴表示树的个数\n",
    "fig,ax = plt.subplots()\n",
    "ax.plot(x_axis,results['validation_0']['logloss'],label='Train')\n",
    "ax.plot(x_axis,results['validation_1']['logloss'],label='Test')\n",
    "ax.legend()\n",
    "plt.ylabel = ('Log loss')\n",
    "plt.title= ('XGBoost Log loss')\n",
    "plt.show()\n",
    "\n",
    "\n",
    "fig,ax = plt.subplots()\n",
    "ax.plot(x_axis,results['validation_0']['error'],label='Train')\n",
    "ax.plot(x_axis,results['validation_1']['error'],label='Test')\n",
    "ax.legend()\n",
    "plt.ylabel = ('error')\n",
    "plt.title= ('XGBoost error')\n",
    "plt.show()"
   ]
  },
  {
   "cell_type": "markdown",
   "metadata": {},
   "source": [
    "## K折交叉验证"
   ]
  },
  {
   "cell_type": "code",
   "execution_count": 14,
   "metadata": {},
   "outputs": [
    {
     "name": "stdout",
     "output_type": "stream",
     "text": [
      "[0.69478528 1.         1.         1.         1.         1.\n",
      " 1.         1.         0.8156682  1.        ]\n",
      "CV ACC: 95.10% (10.16%)\n"
     ]
    }
   ],
   "source": [
    "from sklearn.model_selection import StratifiedKFold\n",
    "from sklearn.model_selection import cross_val_score\n",
    "\n",
    "path = './data/'\n",
    "num_round = 100\n",
    "X_train,y_train = load_svmlight_file(path+'agaricus.txt.train')\n",
    "X_test,y_test = load_svmlight_file(path+'agaricus.txt.test')\n",
    "\n",
    "X_train_apart,X_dev_apart,y_train_apart,y_dev_apart = train_test_split(X_train,y_train,test_size = 0.33,random_state = 2333)\n",
    "\n",
    "def evaluate_sklearn(data,model,label):\n",
    "    pre = model.predict(data)\n",
    "    pre_res = [round(res) for res in pre]\n",
    "    acc = accuracy_score(label,pre_res)\n",
    "    return acc\n",
    "\n",
    "bst = XGBClassifier(max_depth=2,learning_rate=1,n_estimators=num_round,silent=True,objective='binary:logistic')\n",
    "\n",
    "#early_stop\n",
    "bst.fit(X_train_apart,y_train_apart)\n",
    "\n",
    "kfold = StratifiedKFold(n_splits=10,random_state=2333)\n",
    "results = cross_val_score(bst,X_train,y_train,cv = kfold)\n",
    "\n",
    "print(results)\n",
    "print('CV ACC: %.2f%% (%.2f%%)' % (results.mean()*100,results.std()*100))"
   ]
  },
  {
   "cell_type": "markdown",
   "metadata": {},
   "source": [
    "## GridSearch CV"
   ]
  },
  {
   "cell_type": "code",
   "execution_count": 18,
   "metadata": {},
   "outputs": [
    {
     "data": {
      "text/plain": [
       "GridSearchCV(cv=5, error_score='raise-deprecating',\n",
       "       estimator=XGBClassifier(base_score=0.5, booster='gbtree', colsample_bylevel=1,\n",
       "       colsample_bytree=1, gamma=0, learning_rate=1, max_delta_step=0,\n",
       "       max_depth=2, min_child_weight=1, missing=None, n_estimators=100,\n",
       "       n_jobs=1, nthread=None, objective='binary:logistic', random_state=0,\n",
       "       reg_alpha=0, reg_lambda=1, scale_pos_weight=1, seed=None,\n",
       "       silent=True, subsample=1),\n",
       "       fit_params=None, iid='warn', n_jobs=None,\n",
       "       param_grid={'n_estimator': range(1, 50)}, pre_dispatch='2*n_jobs',\n",
       "       refit=True, return_train_score='warn', scoring='accuracy',\n",
       "       verbose=0)"
      ]
     },
     "execution_count": 18,
     "metadata": {},
     "output_type": "execute_result"
    }
   ],
   "source": [
    "import sklearn\n",
    "from sklearn.model_selection import GridSearchCV\n",
    "path = './data/'\n",
    "num_round = 100\n",
    "X_train,y_train = load_svmlight_file(path+'agaricus.txt.train')\n",
    "X_test,y_test = load_svmlight_file(path+'agaricus.txt.test')\n",
    "\n",
    "X_train_apart,X_dev_apart,y_train_apart,y_dev_apart = train_test_split(X_train,y_train,test_size = 0.33,random_state = 2333)\n",
    "\n",
    "def evaluate_sklearn(data,model,label):\n",
    "    pre = model.predict(data)\n",
    "    pre_res = [round(res) for res in pre]\n",
    "    acc = accuracy_score(label,pre_res)\n",
    "    return acc\n",
    "\n",
    "bst = XGBClassifier(max_depth=2,learning_rate=1,n_estimators=num_round,silent=True,objective='binary:logistic')\n",
    "#设置Boosting迭代计算次数\n",
    "param_test = {'n_estimator':range(1,50,1)}\n",
    "clf = GridSearchCV(estimator=bst,param_grid=param_test,scoring='accuracy',cv = 5)\n",
    "clf.fit(X_train,y_train)\n",
    "#clf.best_params_,clf.best_score_"
   ]
  },
  {
   "cell_type": "markdown",
   "metadata": {},
   "source": [
    "## 测试"
   ]
  },
  {
   "cell_type": "code",
   "execution_count": 17,
   "metadata": {},
   "outputs": [
    {
     "name": "stdout",
     "output_type": "stream",
     "text": [
      "1.0\n"
     ]
    }
   ],
   "source": [
    "def evaluate_sklearn(data,model,label):\n",
    "    pre = model.predict(data)\n",
    "    pre_res = [round(res) for res in pre]\n",
    "    acc = accuracy_score(label,pre_res)\n",
    "    return acc\n",
    "\n",
    "print(evaluate_sklearn(X_test,clf,y_test))"
   ]
  },
  {
   "cell_type": "code",
   "execution_count": null,
   "metadata": {},
   "outputs": [],
   "source": []
  }
 ],
 "metadata": {
  "kernelspec": {
   "display_name": "Python 3",
   "language": "python",
   "name": "python3"
  },
  "language_info": {
   "codemirror_mode": {
    "name": "ipython",
    "version": 3
   },
   "file_extension": ".py",
   "mimetype": "text/x-python",
   "name": "python",
   "nbconvert_exporter": "python",
   "pygments_lexer": "ipython3",
   "version": "3.7.1"
  }
 },
 "nbformat": 4,
 "nbformat_minor": 2
}
