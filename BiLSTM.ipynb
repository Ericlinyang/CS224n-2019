{
 "cells": [
  {
   "cell_type": "code",
   "execution_count": 1,
   "metadata": {
    "collapsed": true
   },
   "outputs": [],
   "source": [
    "import tensorflow as tf\n",
    "import numpy as np\n"
   ]
  },
  {
   "cell_type": "code",
   "execution_count": null,
   "metadata": {},
   "outputs": [
    {
     "name": "stdout",
     "output_type": "stream",
     "text": [
      "epoch:1000 cost:1.276349\n",
      "epoch:2000 cost:0.706782\n",
      "epoch:3000 cost:0.436345\n",
      "epoch:4000 cost:0.269067\n"
     ]
    }
   ],
   "source": [
    "tf.reset_default_graph()\n",
    "\n",
    "sentence = [\n",
    "    'Lorem ipsum dolor sit amet consectetur adipisicing elit',\n",
    "    'sed do eiusmod tempor incididunt ut labore et dolore magna',\n",
    "    'aliqua Ut enim ad minim veniam quis nostrud exercitation'\n",
    "    ]\n",
    "\n",
    "word_dict = ' '.join(sentence).split()\n",
    "word_dict = list(set(word_dict))\n",
    "word_num = {w:i for i,w in enumerate(word_dict)}\n",
    "num_word = {i:w for i,w in enumerate(word_dict)}\n",
    "n_class = len(word_dict)\n",
    "n_hidden = 5\n",
    "n_step = len(word_dict)\n",
    "\n",
    "def get_batch(sentence):\n",
    "    input_batch = []\n",
    "    target_batch = []\n",
    "    words = ' '.join(sentence).split()\n",
    "    for i,w in enumerate(words[:-1]):\n",
    "        input_temp = [word_num[w] for w in words[:(i+1)]]\n",
    "        input_temp = input_temp + [0]*(n_step-len(input_temp))\n",
    "        target_temp = word_num[words[i+1]]\n",
    "        \n",
    "        input_batch.append(np.eye(n_class)[input_temp])\n",
    "        target_batch.append(np.eye(n_class)[target_temp])\n",
    "    return input_batch,target_batch\n",
    "\n",
    "X = tf.placeholder(tf.float32,[None,n_step,n_class])\n",
    "Y = tf.placeholder(tf.float32,[None,n_class])\n",
    "\n",
    "#model\n",
    "fw_cell = tf.contrib.rnn.BasicLSTMCell(n_hidden)\n",
    "bw_cell = tf.contrib.rnn.BasicLSTMCell(n_hidden)\n",
    "\n",
    "W = tf.Variable(tf.random_normal([n_hidden*2,n_class]))\n",
    "b = tf.Variable(tf.random_normal([n_class]))\n",
    "\n",
    "outputs,_ = tf.nn.bidirectional_dynamic_rnn(fw_cell,bw_cell,X,dtype=tf.float32)\n",
    "\n",
    "output = tf.concat((outputs[0],outputs[1]),2)\n",
    "output = tf.transpose(output,[1,0,2])\n",
    "output = output[-1]\n",
    "\n",
    "h = tf.matmul(output,W)+b\n",
    "\n",
    "cost = tf.reduce_mean(tf.nn.softmax_cross_entropy_with_logits(labels=Y,logits=h))\n",
    "optimizer = tf.train.AdamOptimizer(0.001).minimize(cost)\n",
    "\n",
    "prediction = tf.cast(tf.argmax(h, 1), tf.int32)\n",
    "\n",
    "input_batch,target_batch = get_batch(sentence)\n",
    "\n",
    "with tf.Session() as sess:\n",
    "    sess.run(tf.global_variables_initializer())\n",
    "    for i in range(5000):\n",
    "        _,loss = sess.run([optimizer,cost],feed_dict={X:input_batch,Y:target_batch})\n",
    "        if (i+1) % 1000 == 0:\n",
    "            print('epoch:%d cost:%.6f' % ((i+1),loss))\n",
    "        \n",
    "    predict =  sess.run([prediction], feed_dict={X: input_batch})\n",
    "    print(predict[0])\n",
    "    print([num_word[n] for n in [pre for pre in predict[0]]])"
   ]
  },
  {
   "cell_type": "code",
   "execution_count": null,
   "metadata": {
    "collapsed": true
   },
   "outputs": [],
   "source": []
  }
 ],
 "metadata": {
  "kernelspec": {
   "display_name": "Python 3",
   "language": "python",
   "name": "python3"
  },
  "language_info": {
   "codemirror_mode": {
    "name": "ipython",
    "version": 3
   },
   "file_extension": ".py",
   "mimetype": "text/x-python",
   "name": "python",
   "nbconvert_exporter": "python",
   "pygments_lexer": "ipython3",
   "version": "3.6.3"
  }
 },
 "nbformat": 4,
 "nbformat_minor": 2
}
