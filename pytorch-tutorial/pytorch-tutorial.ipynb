{
 "cells": [
  {
   "cell_type": "code",
   "execution_count": 1,
   "metadata": {
    "collapsed": true
   },
   "outputs": [],
   "source": [
    "#初识pytorch\n",
    "import torch\n",
    "import time\n",
    "import numpy as np"
   ]
  },
  {
   "cell_type": "code",
   "execution_count": 2,
   "metadata": {},
   "outputs": [
    {
     "name": "stdout",
     "output_type": "stream",
     "text": [
      "cpu 0.5167407989501953 tensor(1.00000e+05 *\n",
      "       1.4151)\n"
     ]
    }
   ],
   "source": [
    "a = torch.randn(100000,1000)\n",
    "b = torch.randn(1000,200)\n",
    "t1 = time.time()\n",
    "c = torch.matmul(a,b)\n",
    "t2 = time.time()\n",
    "print(a.device, t2 - t1,c.norm(2))"
   ]
  },
  {
   "cell_type": "code",
   "execution_count": 3,
   "metadata": {},
   "outputs": [
    {
     "data": {
      "text/plain": [
       "tensor([ 2,  3])"
      ]
     },
     "execution_count": 3,
     "metadata": {},
     "output_type": "execute_result"
    }
   ],
   "source": [
    "torch.tensor([2,3])"
   ]
  },
  {
   "cell_type": "code",
   "execution_count": 4,
   "metadata": {},
   "outputs": [
    {
     "data": {
      "text/plain": [
       "tensor([ 2.3000,  3.0000,  3.0000], dtype=torch.float64)"
      ]
     },
     "execution_count": 4,
     "metadata": {},
     "output_type": "execute_result"
    }
   ],
   "source": [
    "#numpy\n",
    "q = np.array([2.3,3,3])\n",
    "p = np.ones([2,3])\n",
    "torch.from_numpy(p)\n",
    "torch.from_numpy(q)"
   ]
  },
  {
   "cell_type": "code",
   "execution_count": 5,
   "metadata": {},
   "outputs": [
    {
     "data": {
      "text/plain": [
       "tensor([[ 1,  2,  3],\n",
       "        [ 2,  3,  4]])"
      ]
     },
     "execution_count": 5,
     "metadata": {},
     "output_type": "execute_result"
    }
   ],
   "source": [
    "#list tensor只有一个参数\n",
    "torch.tensor([1,2])\n",
    "torch.tensor([[1,2,3],[2,3,4]])"
   ]
  },
  {
   "cell_type": "code",
   "execution_count": 6,
   "metadata": {},
   "outputs": [
    {
     "data": {
      "text/plain": [
       "tensor([[[ 0.0000e+00, -2.6844e+08,  0.0000e+00, -2.6844e+08],\n",
       "         [ 2.0667e+09,  3.2707e+04,  2.0668e+09,  3.2707e+04],\n",
       "         [ 2.0668e+09,  3.2707e+04,  0.0000e+00,  3.0000e+00]],\n",
       "\n",
       "        [[ 0.0000e+00,  0.0000e+00,  2.0279e+09,  3.2707e+04],\n",
       "         [ 0.0000e+00, -2.6844e+08,  0.0000e+00, -2.6844e+08],\n",
       "         [ 3.0000e+00,  0.0000e+00,  0.0000e+00,  1.0000e+00]]], dtype=torch.int32)"
      ]
     },
     "execution_count": 6,
     "metadata": {},
     "output_type": "execute_result"
    }
   ],
   "source": [
    "#uninitialized\n",
    "torch.empty(2)\n",
    "torch.Tensor([1,2])#Tensor有多个参数时表示size\n",
    "torch.IntTensor(2,3,4)"
   ]
  },
  {
   "cell_type": "code",
   "execution_count": 7,
   "metadata": {},
   "outputs": [
    {
     "data": {
      "text/plain": [
       "tensor([[ 6.,  9.,  3.],\n",
       "        [ 2.,  7.,  5.],\n",
       "        [ 6.,  9.,  7.]])"
      ]
     },
     "execution_count": 7,
     "metadata": {},
     "output_type": "execute_result"
    }
   ],
   "source": [
    "#rand\n",
    "a = torch.rand(2,3)\n",
    "torch.rand_like(a)\n",
    "torch.randint(1,10,[3,3])"
   ]
  },
  {
   "cell_type": "code",
   "execution_count": 8,
   "metadata": {},
   "outputs": [
    {
     "data": {
      "text/plain": [
       "tensor([ 1.5418, -0.7873, -0.3838, -0.8312, -0.8709, -1.1153, -0.5277,\n",
       "        -0.2725,  0.0039,  0.0492])"
      ]
     },
     "execution_count": 8,
     "metadata": {},
     "output_type": "execute_result"
    }
   ],
   "source": [
    "#randn normal\n",
    "torch.randn(2,3)\n",
    "torch.normal(torch.full([10],0),torch.arange(1,0,-0.1))"
   ]
  },
  {
   "cell_type": "code",
   "execution_count": 9,
   "metadata": {},
   "outputs": [
    {
     "data": {
      "text/plain": [
       "tensor([[ 7.,  7.,  7.],\n",
       "        [ 7.,  7.,  7.]])"
      ]
     },
     "execution_count": 9,
     "metadata": {},
     "output_type": "execute_result"
    }
   ],
   "source": [
    "#full\n",
    "torch.full([10],7)\n",
    "torch.full([2,3],7)"
   ]
  },
  {
   "cell_type": "code",
   "execution_count": 10,
   "metadata": {},
   "outputs": [
    {
     "data": {
      "text/plain": [
       "tensor([ 1.,  3.,  5.,  7.,  9.])"
      ]
     },
     "execution_count": 10,
     "metadata": {},
     "output_type": "execute_result"
    }
   ],
   "source": [
    "#arange range包含end arange不包含end\n",
    "torch.arange(1,10)\n",
    "torch.arange(1,10,2)"
   ]
  },
  {
   "cell_type": "code",
   "execution_count": 11,
   "metadata": {},
   "outputs": [
    {
     "data": {
      "text/plain": [
       "tensor([  0.,   1.,   2.,   3.,   4.,   5.,   6.,   7.,   8.,   9.,\n",
       "         10.])"
      ]
     },
     "execution_count": 11,
     "metadata": {},
     "output_type": "execute_result"
    }
   ],
   "source": [
    "torch.range(0,10)"
   ]
  },
  {
   "cell_type": "code",
   "execution_count": 12,
   "metadata": {
    "collapsed": true
   },
   "outputs": [],
   "source": [
    "torch.set_default_tensor_type(torch.DoubleTensor)"
   ]
  },
  {
   "cell_type": "code",
   "execution_count": 13,
   "metadata": {},
   "outputs": [
    {
     "data": {
      "text/plain": [
       "tensor([ 1.0000e+00,  2.1544e+03,  4.6416e+06,  1.0000e+10])"
      ]
     },
     "execution_count": 13,
     "metadata": {},
     "output_type": "execute_result"
    }
   ],
   "source": [
    "#linspace logspace\n",
    "torch.linspace(0,10,steps=4)\n",
    "#tensor([  0.0000,   3.3333,   6.6667,  10.0000])\n",
    "torch.logspace(0,10,steps=4)#10的多少次方"
   ]
  },
  {
   "cell_type": "code",
   "execution_count": 14,
   "metadata": {},
   "outputs": [
    {
     "data": {
      "text/plain": [
       "tensor([[ 1.,  0.,  0.,  0.],\n",
       "        [ 0.,  1.,  0.,  0.],\n",
       "        [ 0.,  0.,  1.,  0.]])"
      ]
     },
     "execution_count": 14,
     "metadata": {},
     "output_type": "execute_result"
    }
   ],
   "source": [
    "#ones zeros\n",
    "torch.ones([3,3])\n",
    "torch.zeros([3,3])\n",
    "torch.eye(3,4)"
   ]
  },
  {
   "cell_type": "code",
   "execution_count": 15,
   "metadata": {},
   "outputs": [
    {
     "data": {
      "text/plain": [
       "tensor([ 3,  5,  1,  6,  8,  9,  4,  7,  0,  2])"
      ]
     },
     "execution_count": 15,
     "metadata": {},
     "output_type": "execute_result"
    }
   ],
   "source": [
    "#randperm\n",
    "torch.randperm(10)#range之后再shuffle"
   ]
  },
  {
   "cell_type": "code",
   "execution_count": 65,
   "metadata": {},
   "outputs": [
    {
     "data": {
      "text/plain": [
       "torch.Size([4, 1, 28, 28])"
      ]
     },
     "execution_count": 65,
     "metadata": {},
     "output_type": "execute_result"
    }
   ],
   "source": [
    "#索引和切片\n",
    "a = torch.Tensor(4,3,28,28)\n",
    "a[...,:26].shape\n",
    "a[:,2:,:,:].shape"
   ]
  },
  {
   "cell_type": "code",
   "execution_count": 17,
   "metadata": {},
   "outputs": [
    {
     "data": {
      "text/plain": [
       "torch.Size([4, 3, 10, 28])"
      ]
     },
     "execution_count": 17,
     "metadata": {},
     "output_type": "execute_result"
    }
   ],
   "source": [
    "#index_select\n",
    "b = torch.Tensor(4,3,28,28)\n",
    "b.index_select(0,torch.tensor([0,2])).shape\n",
    "b.index_select(2,torch.arange(10).long()).shape"
   ]
  },
  {
   "cell_type": "code",
   "execution_count": 18,
   "metadata": {},
   "outputs": [
    {
     "data": {
      "text/plain": [
       "tensor([-0.2380, -2.4434,  0.2223])"
      ]
     },
     "execution_count": 18,
     "metadata": {},
     "output_type": "execute_result"
    }
   ],
   "source": [
    "#select by mask 铺平之后为1的index对应的地方取值\n",
    "c = torch.randn(4,3,28,28)\n",
    "mask = c.ge(0.5)\n",
    "torch.masked_select(c,mask).shape\n",
    "torch.take(c,torch.tensor([2,5,8]))"
   ]
  },
  {
   "cell_type": "code",
   "execution_count": 19,
   "metadata": {},
   "outputs": [
    {
     "data": {
      "text/plain": [
       "tensor([[ 0.5968,  0.3332,  0.4461,  ...,  0.0480,  0.7832,  0.2061],\n",
       "        [ 0.8994,  0.3544,  0.6772,  ...,  0.6867,  0.5363,  0.0773],\n",
       "        [ 0.7549,  0.3362,  0.7810,  ...,  0.5065,  0.9984,  0.1730],\n",
       "        [ 0.3782,  0.9534,  0.0392,  ...,  0.0243,  0.0321,  0.3834]])"
      ]
     },
     "execution_count": 19,
     "metadata": {},
     "output_type": "execute_result"
    }
   ],
   "source": [
    "#rand是生成均匀分布,而randn是生成均值为0,方差为1的正态分布\n",
    "d = torch.rand([4,1,28,28])\n",
    "d.view(4,28*28)#会丢失size信息\n"
   ]
  },
  {
   "cell_type": "code",
   "execution_count": 24,
   "metadata": {},
   "outputs": [
    {
     "data": {
      "text/plain": [
       "torch.Size([4, 28, 28])"
      ]
     },
     "execution_count": 24,
     "metadata": {},
     "output_type": "execute_result"
    }
   ],
   "source": [
    "#squeeze 和 unsqueeze\n",
    "e = torch.rand([4,1,28,28])\n",
    "torch.unsqueeze(e,1).shape#类似于tf.expand\n",
    "torch.squeeze(e,1).shape"
   ]
  },
  {
   "cell_type": "code",
   "execution_count": 60,
   "metadata": {},
   "outputs": [
    {
     "data": {
      "text/plain": [
       "torch.Size([4, 32, 3, 6])"
      ]
     },
     "execution_count": 60,
     "metadata": {},
     "output_type": "execute_result"
    }
   ],
   "source": [
    "#expand expand_as\n",
    "#扩展某个size为1的维度。如(2,2,1)扩展为(2,2,3)\n",
    "a = torch.randn(1,32,1,1)\n",
    "# a.expand(-1,4,-1,-1).shape\n",
    "'''\n",
    "tensor([[[ 0.0608],\n",
    "         [ 2.2106]],\n",
    " \n",
    "        [[-1.9287],\n",
    "         [ 0.8748]]])\n",
    "tensor([[[ 0.0608,  0.0608,  0.0608],\n",
    "         [ 2.2106,  2.2106,  2.2106]],\n",
    " \n",
    "        [[-1.9287, -1.9287, -1.9287],\n",
    "'''\n",
    "a.expand(4,32,3,6).shape"
   ]
  },
  {
   "cell_type": "code",
   "execution_count": 62,
   "metadata": {},
   "outputs": [
    {
     "data": {
      "text/plain": [
       "torch.Size([4, 1024, 1, 1])"
      ]
     },
     "execution_count": 62,
     "metadata": {},
     "output_type": "execute_result"
    }
   ],
   "source": [
    "#repeat\n",
    "f = torch.randn(1,32,1,1)\n",
    "f.repeat(4,32,1,1).shape#相当于重复多少倍"
   ]
  },
  {
   "cell_type": "code",
   "execution_count": 196,
   "metadata": {},
   "outputs": [
    {
     "data": {
      "text/plain": [
       "tensor([[ 1.,  1.],\n",
       "        [ 1.,  1.],\n",
       "        [ 1.,  1.]])"
      ]
     },
     "execution_count": 196,
     "metadata": {},
     "output_type": "execute_result"
    }
   ],
   "source": [
    "a.t()#显示所有size"
   ]
  },
  {
   "cell_type": "code",
   "execution_count": 82,
   "metadata": {},
   "outputs": [
    {
     "name": "stdout",
     "output_type": "stream",
     "text": [
      "torch.Size([4, 3, 32, 32])\n"
     ]
    },
    {
     "data": {
      "text/plain": [
       "torch.Size([4, 32, 32, 3])"
      ]
     },
     "execution_count": 82,
     "metadata": {},
     "output_type": "execute_result"
    }
   ],
   "source": [
    "#transpose permute\n",
    "print(a.shape)\n",
    "a = torch.randn(4,3,32,32)\n",
    "a.transpose(1,3).contiguous().view(4,3*32*32).view(4,32,32,3).transpose(1,3).shape\n",
    "#contiguous：view只能用在contiguous的variable上。\n",
    "#如果在view之前用了transpose, permute等，需要用contiguous()来返回一个contiguous copy。 \n",
    "a.permute(0,2,3,1).shape#transpose多个维度"
   ]
  },
  {
   "cell_type": "code",
   "execution_count": 108,
   "metadata": {},
   "outputs": [
    {
     "data": {
      "text/plain": [
       "tensor([[  0.0000,   1.3333,   2.6667,   4.0000],\n",
       "        [ 13.3333,  14.6667,  16.0000,  17.3333],\n",
       "        [ 26.6667,  28.0000,  29.3333,  30.6667],\n",
       "        [ 40.0000,  41.3333,  42.6667,  44.0000]])"
      ]
     },
     "execution_count": 108,
     "metadata": {},
     "output_type": "execute_result"
    }
   ],
   "source": [
    "#broadcast\n",
    "a = np.linspace(0,40,4)\n",
    "b = np.linspace(0,4,4)\n",
    "t1 = torch.tensor([a])\n",
    "t2 = torch.tensor([b])\n",
    "t1 = t1.transpose(1,0)\n",
    "torch.add(t1,t2)"
   ]
  },
  {
   "cell_type": "code",
   "execution_count": 112,
   "metadata": {},
   "outputs": [
    {
     "data": {
      "text/plain": [
       "torch.Size([9, 32, 8])"
      ]
     },
     "execution_count": 112,
     "metadata": {},
     "output_type": "execute_result"
    }
   ],
   "source": [
    "#cat 不创建新的维度 就在原来的基础上加\n",
    "a = torch.rand(4,32,8)\n",
    "b = torch.rand(5,32,8)\n",
    "torch.cat([a,b],dim=0).shape"
   ]
  },
  {
   "cell_type": "code",
   "execution_count": 114,
   "metadata": {},
   "outputs": [
    {
     "data": {
      "text/plain": [
       "torch.Size([4, 3, 2, 16, 32])"
      ]
     },
     "execution_count": 114,
     "metadata": {},
     "output_type": "execute_result"
    }
   ],
   "source": [
    "#stack 创建一个新的维度\n",
    "a1 = torch.rand(4,3,16,32)\n",
    "a2 = torch.rand(4,3,16,32)\n",
    "torch.stack([a1,a2],dim=2).shape"
   ]
  },
  {
   "cell_type": "code",
   "execution_count": 128,
   "metadata": {},
   "outputs": [
    {
     "data": {
      "text/plain": [
       "torch.Size([4, 1, 16, 32])"
      ]
     },
     "execution_count": 128,
     "metadata": {},
     "output_type": "execute_result"
    }
   ],
   "source": [
    "#split(size,dim) by len\n",
    "aa,bb = a1.split(2,dim=1)\n",
    "aa.shape\n",
    "bb.shape"
   ]
  },
  {
   "cell_type": "code",
   "execution_count": 129,
   "metadata": {},
   "outputs": [
    {
     "data": {
      "text/plain": [
       "torch.Size([2, 3, 16, 32])"
      ]
     },
     "execution_count": 129,
     "metadata": {},
     "output_type": "execute_result"
    }
   ],
   "source": [
    "#chunk by size\n",
    "aa,bb = a1.split(2,dim=0)\n",
    "aa.shape\n",
    "bb.shape"
   ]
  },
  {
   "cell_type": "code",
   "execution_count": 132,
   "metadata": {},
   "outputs": [
    {
     "data": {
      "text/plain": [
       "torch.Size([4, 3, 28, 32])"
      ]
     },
     "execution_count": 132,
     "metadata": {},
     "output_type": "execute_result"
    }
   ],
   "source": [
    "#matmul mm(for 2d)\n",
    "a = torch.rand(4,3,28,64)\n",
    "b = torch.rand(4,3,64,32)\n",
    "torch.matmul(a,b).shape"
   ]
  },
  {
   "cell_type": "code",
   "execution_count": 140,
   "metadata": {},
   "outputs": [
    {
     "data": {
      "text/plain": [
       "torch.Size([4, 3, 28, 32])"
      ]
     },
     "execution_count": 140,
     "metadata": {},
     "output_type": "execute_result"
    }
   ],
   "source": [
    "#??\n",
    "a = torch.rand(4,3,28,64)\n",
    "b = torch.rand(4,1,64,32)\n",
    "torch.matmul(a,b).shape"
   ]
  },
  {
   "cell_type": "code",
   "execution_count": 143,
   "metadata": {
    "collapsed": true
   },
   "outputs": [],
   "source": [
    "#pow\n",
    "a = torch.rand(2,3)\n",
    "b = a.pow(2)\n",
    "c = b.sqrt()\n",
    "d = b.rsqrt()#返回平方根的倒数"
   ]
  },
  {
   "cell_type": "code",
   "execution_count": 146,
   "metadata": {},
   "outputs": [
    {
     "data": {
      "text/plain": [
       "tensor([[ 1.,  1.],\n",
       "        [ 1.,  1.]])"
      ]
     },
     "execution_count": 146,
     "metadata": {},
     "output_type": "execute_result"
    }
   ],
   "source": [
    "#exp log\n",
    "a = torch.exp(torch.ones(2,2))\n",
    "b = torch.log(a)\n",
    "b"
   ]
  },
  {
   "cell_type": "code",
   "execution_count": 150,
   "metadata": {},
   "outputs": [
    {
     "data": {
      "text/plain": [
       "tensor([[  6.6547,   6.0000,  13.2827],\n",
       "        [  6.0000,   6.0000,  11.6300]])"
      ]
     },
     "execution_count": 150,
     "metadata": {},
     "output_type": "execute_result"
    }
   ],
   "source": [
    "#floor() ceil() round() trunc() frac()\n",
    "#向下取整 向上取整 四舍五入 截断 取小数\n",
    "#clamp\n",
    "grad = torch.rand(2,3)*15\n",
    "grad.max()\n",
    "grad.median()\n",
    "grad.clamp(6)#将数字限定在一个范围 单个参数的话相当于floor  两个参数就是floor和ceil"
   ]
  },
  {
   "cell_type": "code",
   "execution_count": 159,
   "metadata": {},
   "outputs": [
    {
     "data": {
      "text/plain": [
       "tensor([[ 1.4142,  1.4142],\n",
       "        [ 1.4142,  1.4142]])"
      ]
     },
     "execution_count": 159,
     "metadata": {},
     "output_type": "execute_result"
    }
   ],
   "source": [
    "#统计属性 statistics\n",
    "#norm求范数\n",
    "a = torch.ones(8)\n",
    "a.norm(2)\n",
    "b = a.view(4,2)\n",
    "c = a.view(2,2,2)\n",
    "b.norm(2,dim=1)\n",
    "c.norm(2,dim=0)"
   ]
  },
  {
   "cell_type": "code",
   "execution_count": 172,
   "metadata": {},
   "outputs": [
    {
     "data": {
      "text/plain": [
       "tensor([[ 0.,  1.,  2.,  3.],\n",
       "        [ 4.,  5.,  6.,  7.]])"
      ]
     },
     "execution_count": 172,
     "metadata": {},
     "output_type": "execute_result"
    }
   ],
   "source": [
    "#max mean sum argmax\n",
    "a = torch.arange(8).view(2,4)\n",
    "m,index = a.min(dim=1)\n",
    "a.sum()\n",
    "a.argmax(dim=1)#返回最大值的index 无参数时返回铺平后的最大值index\n"
   ]
  },
  {
   "cell_type": "code",
   "execution_count": 186,
   "metadata": {},
   "outputs": [
    {
     "data": {
      "text/plain": [
       "(tensor([ 0.9538,  0.7321,  1.2935,  0.6755]), tensor([ 8,  3,  6,  5]))"
      ]
     },
     "execution_count": 186,
     "metadata": {},
     "output_type": "execute_result"
    }
   ],
   "source": [
    "#dim keep_dim\n",
    "a = torch.randn(4,10)\n",
    "a.max(dim=1)\n",
    "a.argmax(dim=1,keepdim=True)\n",
    "a.topk(3,dim=1)\n",
    "a.topk(3,dim=1,largest=False)\n",
    "a.kthvalue(8,dim=1)"
   ]
  },
  {
   "cell_type": "code",
   "execution_count": 195,
   "metadata": {},
   "outputs": [
    {
     "data": {
      "text/plain": [
       "True"
      ]
     },
     "execution_count": 195,
     "metadata": {},
     "output_type": "execute_result"
    }
   ],
   "source": [
    "a = torch.ones(2,3)\n",
    "b = torch.randn(2,3)\n",
    "torch.eq(a,a)#matrix size 0 or 1\n",
    "torch.equal(a,a)#True or False"
   ]
  },
  {
   "cell_type": "code",
   "execution_count": 197,
   "metadata": {},
   "outputs": [
    {
     "data": {
      "text/plain": [
       "tensor([[ 0.,  0.,  0.],\n",
       "        [ 1.,  0.,  1.]])"
      ]
     },
     "execution_count": 197,
     "metadata": {},
     "output_type": "execute_result"
    }
   ],
   "source": [
    "#高阶op\n",
    "#where\n",
    "cond = torch.randn(2,3)\n",
    "a = torch.ones(2,3)\n",
    "b = torch.zeros(2,3)\n",
    "res = torch.where(cond>0.5,a,b)#if cond a else b\n"
   ]
  },
  {
   "cell_type": "code",
   "execution_count": 204,
   "metadata": {},
   "outputs": [
    {
     "data": {
      "text/plain": [
       "tensor([[ 109.,  107.,  104.],\n",
       "        [ 104.,  101.,  106.],\n",
       "        [ 105.,  108.,  107.],\n",
       "        [ 100.,  103.,  104.]])"
      ]
     },
     "execution_count": 204,
     "metadata": {},
     "output_type": "execute_result"
    }
   ],
   "source": [
    "#gather 抓取\n",
    "a = torch.randn(4,10)\n",
    "idx = a.topk(3,dim=1)[1]\n",
    "inputs = torch.arange(0,10)+100\n",
    "torch.gather(inputs.expand(4,10),dim=1,index=idx)"
   ]
  },
  {
   "cell_type": "code",
   "execution_count": 211,
   "metadata": {},
   "outputs": [
    {
     "data": {
      "text/plain": [
       "tensor([-0.7616, -0.6514, -0.5047, -0.3215, -0.1107,  0.1107,  0.3215,\n",
       "         0.5047,  0.6514,  0.7616])"
      ]
     },
     "execution_count": 211,
     "metadata": {},
     "output_type": "execute_result"
    }
   ],
   "source": [
    "#激活函数\n",
    "#sigmoid o 导数o(1-o)\n",
    "#tanh 导数 1-tanh^2\n",
    "a = torch.linspace(1,10,steps=10)\n",
    "torch.sigmoid(a)\n",
    "b = torch.linspace(-1,1,steps=10)\n",
    "torch.tanh(b)"
   ]
  },
  {
   "cell_type": "code",
   "execution_count": 215,
   "metadata": {},
   "outputs": [
    {
     "data": {
      "text/plain": [
       "tensor([ 0.0000,  0.0000,  0.0000,  0.0000,  0.0000,  0.1111,  0.3333,\n",
       "         0.5556,  0.7778,  1.0000])"
      ]
     },
     "execution_count": 215,
     "metadata": {},
     "output_type": "execute_result"
    }
   ],
   "source": [
    "import torch.nn.functional as F\n",
    "a = torch.linspace(-1,1,10)\n",
    "torch.relu(a)"
   ]
  },
  {
   "cell_type": "code",
   "execution_count": 216,
   "metadata": {},
   "outputs": [
    {
     "data": {
      "text/plain": [
       "tensor([ 0.0000,  0.0000,  0.0000,  0.0000,  0.0000,  0.1111,  0.3333,\n",
       "         0.5556,  0.7778,  1.0000])"
      ]
     },
     "execution_count": 216,
     "metadata": {},
     "output_type": "execute_result"
    }
   ],
   "source": [
    "F.relu(a)"
   ]
  },
  {
   "cell_type": "code",
   "execution_count": 251,
   "metadata": {},
   "outputs": [
    {
     "name": "stdout",
     "output_type": "stream",
     "text": [
      "tensor([[ 0.6014],\n",
      "        [ 0.4385],\n",
      "        [ 0.7116],\n",
      "        [ 0.2504]])\n",
      "None\n"
     ]
    }
   ],
   "source": [
    "#auto grad\n",
    "x = torch.randn(10,4)\n",
    "y = torch.rand(4,1)\n",
    "print(y)\n",
    "torch.set_default_tensor_type(torch.FloatTensor)\n",
    "c = torch.tensor([[1.,1.,1.,1.,1.,0.,0.,0.,0.,0.]])\n",
    "y.requires_grad_()\n",
    "mse = F.mse_loss(c.transpose(1,0),torch.matmul(x,y))\n",
    "#两种求梯度的方式 \n",
    "#autograd.grad(loss,[w1,w2,...])\n",
    "#loss.backward() w1.grad w2.grad...\n",
    "\n",
    "#torch.autograd.grad(mse,[y])\n",
    "#mse.backward()\n",
    "print(y.grad)\n",
    "# torch.autograd.grad(mse,[y])"
   ]
  },
  {
   "cell_type": "code",
   "execution_count": 270,
   "metadata": {},
   "outputs": [
    {
     "data": {
      "text/plain": [
       "(tensor([-0.0839,  0.2040, -0.1201]),)"
      ]
     },
     "execution_count": 270,
     "metadata": {},
     "output_type": "execute_result"
    }
   ],
   "source": [
    "#softmax\n",
    "a = torch.rand(3)\n",
    "a.requires_grad_()\n",
    "p = F.softmax(a,dim=0)\n",
    "#p.backward()\n",
    "torch.autograd.grad(p[0],[a],retain_graph=True)\n",
    "torch.autograd.grad(p[1],[a])\n"
   ]
  },
  {
   "cell_type": "code",
   "execution_count": 280,
   "metadata": {},
   "outputs": [
    {
     "data": {
      "text/plain": [
       "tensor(1.00000e-02 *\n",
       "       [[-0.8643, -1.2534, -0.4541, -0.2793, -1.1646, -0.6697, -1.2836,\n",
       "         -0.4158, -0.2457, -0.9474]])"
      ]
     },
     "execution_count": 280,
     "metadata": {},
     "output_type": "execute_result"
    }
   ],
   "source": [
    "#单输出的感知机\n",
    "x = torch.rand(1,10)\n",
    "w = torch.rand(1,10,requires_grad=True)\n",
    "o = torch.sigmoid(x@w.t())\n",
    "p = F.mse_loss(torch.ones(1,1),o)\n",
    "p.backward()\n",
    "w.grad"
   ]
  },
  {
   "cell_type": "code",
   "execution_count": 284,
   "metadata": {},
   "outputs": [
    {
     "data": {
      "text/plain": [
       "tensor(1.00000e-03 *\n",
       "       [[-1.8835, -2.8279, -8.5346, -6.1455, -4.8173, -8.6635, -3.9107,\n",
       "         -5.2868, -6.5046, -1.4916],\n",
       "        [-0.2321, -0.3485, -1.0518, -0.7574, -0.5937, -1.0677, -0.4819,\n",
       "         -0.6515, -0.8016, -0.1838]])"
      ]
     },
     "execution_count": 284,
     "metadata": {},
     "output_type": "execute_result"
    }
   ],
   "source": [
    "#多输出的感知机\n",
    "x = torch.rand(1,10)\n",
    "w = torch.rand(2,10,requires_grad=True)\n",
    "o = torch.sigmoid(x@w.t())\n",
    "p = F.mse_loss(torch.ones(1,2),o)\n",
    "p.backward()\n",
    "w.grad"
   ]
  },
  {
   "cell_type": "code",
   "execution_count": 331,
   "metadata": {},
   "outputs": [
    {
     "data": {
      "text/plain": [
       "tensor([[  9.1058,   8.1987,  15.4877,   1.1411,   9.0638,   6.5745,\n",
       "           3.9227,   8.3358,   3.9339,  15.1633,   2.5644,  11.5374,\n",
       "          14.8297,   4.1587,  15.4504,   8.5591,   6.2904,  10.9190,\n",
       "          10.7761,  12.1088],\n",
       "        [ 25.1896,  22.6800,  42.8437,   3.1567,  25.0733,  18.1870,\n",
       "          10.8515,  23.0594,  10.8824,  41.9463,   7.0940,  31.9160,\n",
       "          41.0235,  11.5044,  42.7406,  23.6770,  17.4013,  30.2054,\n",
       "          29.8100,  33.4967],\n",
       "        [ 30.3117,  27.2919,  51.5556,   3.7986,  30.1718,  21.8853,\n",
       "          13.0580,  27.7484,  13.0952,  50.4758,   8.5366,  38.4059,\n",
       "          49.3653,  13.8437,  51.4316,  28.4916,  20.9398,  36.3474,\n",
       "          35.8716,  40.3080],\n",
       "        [  5.7527,   5.1796,   9.7845,   0.7209,   5.7262,   4.1535,\n",
       "           2.4782,   5.2662,   2.4853,   9.5796,   1.6201,   7.2889,\n",
       "           9.3688,   2.6273,   9.7610,   5.4073,   3.9741,   6.8982,\n",
       "           6.8079,   7.6499],\n",
       "        [ 19.7460,  17.7788,  33.5849,   2.4745,  19.6548,  14.2567,\n",
       "           8.5064,  18.0761,   8.5306,  32.8815,   5.5610,  25.0188,\n",
       "          32.1580,   9.0182,  33.5041,  18.5603,  13.6408,  23.6778,\n",
       "          23.3679,  26.2578],\n",
       "        [  1.6275,   1.4653,   2.7681,   0.2040,   1.6200,   1.1751,\n",
       "           0.7011,   1.4899,   0.7031,   2.7101,   0.4583,   2.0621,\n",
       "           2.6505,   0.7433,   2.7614,   1.5298,   1.1243,   1.9516,\n",
       "           1.9260,   2.1642],\n",
       "        [ 32.0185,  28.8286,  54.4586,   4.0125,  31.8707,  23.1176,\n",
       "          13.7933,  29.3108,  13.8326,  53.3180,   9.0172,  40.5685,\n",
       "          52.1450,  14.6232,  54.3275,  30.0959,  22.1189,  38.3941,\n",
       "          37.8915,  42.5776],\n",
       "        [ 11.7500,  10.5794,  19.9849,   1.4725,  11.6957,   8.4836,\n",
       "           5.0618,  10.7563,   5.0762,  19.5663,   3.3091,  14.8876,\n",
       "          19.1359,   5.3664,  19.9368,  11.0444,   8.1171,  14.0896,\n",
       "          13.9052,  15.6249],\n",
       "        [ 30.9389,  27.8565,  52.6223,   3.8772,  30.7960,  22.3380,\n",
       "          13.3282,  28.3225,  13.3662,  51.5201,   8.7132,  39.2005,\n",
       "          50.3866,  14.1301,  52.4956,  29.0811,  21.3730,  37.0994,\n",
       "          36.6138,  41.1419],\n",
       "        [ 27.2868,  24.5683,  46.4106,   3.4195,  27.1608,  19.7012,\n",
       "          11.7549,  24.9792,  11.7884,  45.4385,   7.6846,  34.5732,\n",
       "          44.4389,  12.4622,  46.2989,  25.6483,  18.8501,  32.7201,\n",
       "          32.2918,  36.2854]])"
      ]
     },
     "execution_count": 331,
     "metadata": {},
     "output_type": "execute_result"
    }
   ],
   "source": [
    "x = torch.rand(1,10)\n",
    "w1 = torch.rand(10,20,requires_grad=True)\n",
    "b1 = torch.ones(1,20)\n",
    "w2 = torch.rand(20,1,requires_grad=True)\n",
    "b2 = torch.ones(1)\n",
    "\n",
    "y1 = torch.matmul(x,w1)+b1\n",
    "y2 = torch.matmul(y1,w2)+b2\n",
    "\n",
    "# dy1_dw1 = torch.autograd.grad(y1,[w1],retain_graph=True)\n",
    "# dy2_dy1 = torch.autograd.grad(y2,[y1],retain_graph=True)\n",
    "loss = F.mse_loss(torch.ones(1),y2)\n",
    "loss.backward()\n",
    "w1.grad"
   ]
  },
  {
   "cell_type": "code",
   "execution_count": 2,
   "metadata": {},
   "outputs": [
    {
     "name": "stdout",
     "output_type": "stream",
     "text": [
      "x,y range: (120,) (120,)\n",
      "X,Y maps: (120, 120) (120, 120)\n"
     ]
    },
    {
     "data": {
      "image/png": "[encoded data removed]",
      "text/plain": [
       "<Figure size 432x288 with 1 Axes>"
      ]
     },
     "metadata": {},
     "output_type": "display_data"
    }
   ],
   "source": [
    "import  numpy as np\n",
    "from    mpl_toolkits.mplot3d import Axes3D\n",
    "from    matplotlib import pyplot as plt\n",
    "import  torch\n",
    "\n",
    "\n",
    "\n",
    "def himmelblau(x):\n",
    "    return (x[0] ** 2 + x[1] - 11) ** 2 + (x[0] + x[1] ** 2 - 7) ** 2\n",
    "\n",
    "\n",
    "x = np.arange(-6, 6, 0.1)\n",
    "y = np.arange(-6, 6, 0.1)\n",
    "print('x,y range:', x.shape, y.shape)\n",
    "X, Y = np.meshgrid(x, y)\n",
    "print('X,Y maps:', X.shape, Y.shape)\n",
    "Z = himmelblau([X, Y])\n",
    "\n",
    "fig = plt.figure('himmelblau')\n",
    "ax = fig.gca(projection='3d')\n",
    "ax.plot_surface(X, Y, Z)\n",
    "ax.view_init(60, -30)\n",
    "ax.set_xlabel('x')\n",
    "ax.set_ylabel('y')\n",
    "plt.show()"
   ]
  },
  {
   "cell_type": "code",
   "execution_count": 14,
   "metadata": {},
   "outputs": [
    {
     "name": "stdout",
     "output_type": "stream",
     "text": [
      "step: 0 x = [-1.000499963760376, 0.0004999999655410647] f(x)= 164.0\n",
      "step: 2000 x = [-2.0577282905578613, 1.1667312383651733] f(x)= 90.62757110595703\n",
      "step: 4000 x = [-2.718446731567383, 2.2497518062591553] f(x)= 23.560373306274414\n",
      "step: 6000 x = [-2.8020339012145996, 2.960942506790161] f(x)= 1.1088749170303345\n",
      "step: 8000 x = [-2.805062770843506, 3.1294891834259033] f(x)= 0.00013457478780765086\n",
      "step: 10000 x = [-2.805114507675171, 3.131300210952759] f(x)= 6.4437699620611966e-09\n",
      "step: 12000 x = [-2.805116891860962, 3.131308078765869] f(x)= 8.440110832452774e-10\n",
      "step: 14000 x = [-2.8051178455352783, 3.1313109397888184] f(x)= 9.913492249324918e-11\n",
      "step: 16000 x = [-2.8051180839538574, 3.131312131881714] f(x)= 5.6843418860808015e-12\n",
      "step: 18000 x = [-2.8051180839538574, 3.131312370300293] f(x)= 2.2737367544323206e-13\n",
      "step: 20000 x = [-2.8051180839538574, 3.131312370300293] f(x)= 2.2737367544323206e-13\n",
      "step: 22000 x = [-2.8051180839538574, 3.131312608718872] f(x)= 2.2737367544323206e-13\n",
      "step: 24000 x = [-2.805126667022705, 3.131312847137451] f(x)= 2.9524471756303683e-09\n",
      "step: 26000 x = [-2.8051185607910156, 3.131312370300293] f(x)= 3.092281986027956e-11\n",
      "step: 28000 x = [-2.8051199913024902, 3.131312370300293] f(x)= 1.8917489796876907e-10\n"
     ]
    }
   ],
   "source": [
    "x = torch.tensor([-1.0,0.0],requires_grad=True)\n",
    "optimizer = torch.optim.Adam([x],lr=5e-4)\n",
    "for step in range(30000):\n",
    "    optimizer.zero_grad()\n",
    "    pred = himmelblau(x)\n",
    "    pred.backward()\n",
    "    optimizer.step()\n",
    "    \n",
    "    if step%2000 == 0:\n",
    "        print('step: {} x = {} f(x)= {}'.format(step,x.tolist(),pred.item()))"
   ]
  },
  {
   "cell_type": "code",
   "execution_count": null,
   "metadata": {
    "collapsed": true
   },
   "outputs": [],
   "source": []
  }
 ],
 "metadata": {
  "kernelspec": {
   "display_name": "Python 3",
   "language": "python",
   "name": "python3"
  },
  "language_info": {
   "codemirror_mode": {
    "name": "ipython",
    "version": 3
   },
   "file_extension": ".py",
   "mimetype": "text/x-python",
   "name": "python",
   "nbconvert_exporter": "python",
   "pygments_lexer": "ipython3",
   "version": "3.6.3"
  }
 },
 "nbformat": 4,
 "nbformat_minor": 2
}
